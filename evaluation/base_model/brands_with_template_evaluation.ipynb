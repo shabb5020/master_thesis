{
 "cells": [
  {
   "cell_type": "markdown",
   "id": "7c64ab50-0c19-4bdf-a9eb-a529e2e9da78",
   "metadata": {},
   "source": [
    "### Initialize clip"
   ]
  },
  {
   "cell_type": "code",
   "execution_count": 1,
   "id": "7c6e2d33-8563-4954-b13d-24421c8f1ca5",
   "metadata": {},
   "outputs": [],
   "source": [
    "import evaluation\n",
    "\n",
    "model = evaluation.model\n",
    "preprocess = evaluation.preprocess"
   ]
  },
  {
   "cell_type": "markdown",
   "id": "cbee66e7-58ee-46a2-8b7a-d5e0ac9922ef",
   "metadata": {},
   "source": [
    "### Get images and titles for evaluation"
   ]
  },
  {
   "cell_type": "code",
   "execution_count": 4,
   "id": "973f3b81-3451-40b3-ab73-93a86d5bc314",
   "metadata": {},
   "outputs": [
    {
     "name": "stdout",
     "output_type": "stream",
     "text": [
      "210 | 210\n"
     ]
    }
   ],
   "source": [
    "images_path = evaluation.images_path\n",
    "texts_file = evaluation.text_file_brands\n",
    "\n",
    "texts_list = evaluation.read_text(texts_file)\n",
    "images, titles = evaluation.get_image_title(texts_list)\n",
    "\n",
    "print(len(images), \"|\", len(titles))"
   ]
  },
  {
   "cell_type": "markdown",
   "id": "1a28f247-31e1-450c-b9ce-45ae71bcf594",
   "metadata": {},
   "source": [
    "### Create dataset"
   ]
  },
  {
   "cell_type": "code",
   "execution_count": 5,
   "id": "afd603ba",
   "metadata": {},
   "outputs": [],
   "source": [
    "dataset = evaluation.image_title_dataset(images, titles)"
   ]
  },
  {
   "cell_type": "markdown",
   "id": "5dba162a-e2ee-41da-83ea-637ac95538c9",
   "metadata": {},
   "source": [
    "### brand weight"
   ]
  },
  {
   "cell_type": "code",
   "execution_count": 6,
   "id": "4ed6d71d",
   "metadata": {},
   "outputs": [
    {
     "name": "stdout",
     "output_type": "stream",
     "text": [
      "torch.Size([512, 40])\n"
     ]
    }
   ],
   "source": [
    "brands = evaluation.brands\n",
    "brands_template = evaluation.brands_template\n",
    "\n",
    "zeroshot_brand_weights = evaluation.zeroshot_weight_calculator_tmpl(brands, brands_template)\n",
    "\n",
    "print(zeroshot_brand_weights.shape)"
   ]
  },
  {
   "cell_type": "markdown",
   "id": "70c545c5-c2a0-4d81-bb6e-62ba20321415",
   "metadata": {},
   "source": [
    "### calculate accuracy"
   ]
  },
  {
   "cell_type": "code",
   "execution_count": 7,
   "id": "dbd85f74",
   "metadata": {},
   "outputs": [
    {
     "data": {
      "application/vnd.jupyter.widget-view+json": {
       "model_id": "fb4d040045d442bda1de50246bb0ecc3",
       "version_major": 2,
       "version_minor": 0
      },
      "text/plain": [
       "  0%|          | 0/210 [00:00<?, ?it/s]"
      ]
     },
     "metadata": {},
     "output_type": "display_data"
    },
    {
     "name": "stdout",
     "output_type": "stream",
     "text": [
      "Top-1 accuracy: 27.62\n",
      "Top-5 accuracy: 55.24\n"
     ]
    }
   ],
   "source": [
    "import numpy as np\n",
    "from tqdm.notebook import tqdm\n",
    "import torch\n",
    "\n",
    "with torch.no_grad():\n",
    "    top1, top5, n = 0., 0., 0.\n",
    "    \n",
    "    for i, (img, title) in enumerate(tqdm(dataset)):\n",
    "        \n",
    "        image = []\n",
    "        image.append(img)\n",
    "        image = torch.tensor(np.stack(image))\n",
    "        image_features = model.encode_image(image)\n",
    "        image_features /= image_features.norm(dim=-1, keepdim=True)\n",
    "        logits = 100. * image_features @ zeroshot_brand_weights\n",
    "        target_index = brands.index(title)\n",
    "        \n",
    "        acc1, acc5 = evaluation.accuracy(logits, target_index, topk=(1,5))\n",
    "        top1 += acc1\n",
    "        top5 += acc5        \n",
    "        n += image.size(0)        \n",
    "        \n",
    "top1 = (top1 / n) * 100\n",
    "top5 = (top5 / n) * 100 \n",
    "\n",
    "print(f\"Top-1 accuracy: {top1:.2f}\")\n",
    "print(f\"Top-5 accuracy: {top5:.2f}\")"
   ]
  }
 ],
 "metadata": {
  "kernelspec": {
   "display_name": "Python 3 (ipykernel)",
   "language": "python",
   "name": "python3"
  },
  "language_info": {
   "codemirror_mode": {
    "name": "ipython",
    "version": 3
   },
   "file_extension": ".py",
   "mimetype": "text/x-python",
   "name": "python",
   "nbconvert_exporter": "python",
   "pygments_lexer": "ipython3",
   "version": "3.13.5"
  }
 },
 "nbformat": 4,
 "nbformat_minor": 5
}
