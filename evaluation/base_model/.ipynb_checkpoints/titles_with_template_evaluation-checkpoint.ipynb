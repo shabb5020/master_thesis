{
 "cells": [
  {
   "cell_type": "markdown",
   "id": "7c64ab50-0c19-4bdf-a9eb-a529e2e9da78",
   "metadata": {},
   "source": [
    "### Initialize clip"
   ]
  },
  {
   "cell_type": "code",
   "execution_count": 1,
   "id": "7c6e2d33-8563-4954-b13d-24421c8f1ca5",
   "metadata": {},
   "outputs": [],
   "source": [
    "import evaluation\n",
    "\n",
    "model = evaluation.model\n",
    "preprocess = evaluation.preprocess"
   ]
  },
  {
   "cell_type": "markdown",
   "id": "cbee66e7-58ee-46a2-8b7a-d5e0ac9922ef",
   "metadata": {},
   "source": [
    "### Get images and titles for evaluation"
   ]
  },
  {
   "cell_type": "code",
   "execution_count": 2,
   "id": "973f3b81-3451-40b3-ab73-93a86d5bc314",
   "metadata": {},
   "outputs": [
    {
     "name": "stdout",
     "output_type": "stream",
     "text": [
      "210 | 210\n"
     ]
    }
   ],
   "source": [
    "images_path = evaluation.images_path\n",
    "texts_file = evaluation.text_file_titles\n",
    "\n",
    "texts_list = evaluation.read_text(texts_file)\n",
    "images, titles = evaluation.get_image_title(texts_list)\n",
    "\n",
    "print(len(images), \"|\", len(titles))"
   ]
  },
  {
   "cell_type": "markdown",
   "id": "1a28f247-31e1-450c-b9ce-45ae71bcf594",
   "metadata": {},
   "source": [
    "### Create dataset"
   ]
  },
  {
   "cell_type": "code",
   "execution_count": 3,
   "id": "afd603ba",
   "metadata": {},
   "outputs": [],
   "source": [
    "dataset = evaluation.image_title_dataset(images, titles)"
   ]
  },
  {
   "cell_type": "markdown",
   "id": "5dba162a-e2ee-41da-83ea-637ac95538c9",
   "metadata": {},
   "source": [
    "### brand weight"
   ]
  },
  {
   "cell_type": "code",
   "execution_count": 5,
   "id": "4ed6d71d",
   "metadata": {},
   "outputs": [
    {
     "name": "stdout",
     "output_type": "stream",
     "text": [
      "torch.Size([512, 40])\n",
      "torch.Size([512, 10])\n",
      "torch.Size([512, 12])\n"
     ]
    }
   ],
   "source": [
    "brands = evaluation.brands\n",
    "brands_template = evaluation.brands_template\n",
    "\n",
    "categories = evaluation.categories\n",
    "categories_template = evaluation.categories_template\n",
    "\n",
    "colors = evaluation.colors\n",
    "colors_template = evaluation.colors_template\n",
    "\n",
    "zeroshot_brands_weights = evaluation.zeroshot_weight_calculator_tmpl(brands, brands_template)\n",
    "zeroshot_categories_weights = evaluation.zeroshot_weight_calculator_tmpl(categories, categories_template)\n",
    "zeroshot_colors_weights = evaluation.zeroshot_weight_calculator_tmpl(colors, colors_template)\n",
    "\n",
    "\n",
    "print(zeroshot_brands_weights.shape)\n",
    "print(zeroshot_categories_weights.shape)\n",
    "print(zeroshot_colors_weights.shape)"
   ]
  },
  {
   "cell_type": "markdown",
   "id": "70c545c5-c2a0-4d81-bb6e-62ba20321415",
   "metadata": {},
   "source": [
    "### calculate accuracy"
   ]
  },
  {
   "cell_type": "code",
   "execution_count": 7,
   "id": "dbd85f74",
   "metadata": {},
   "outputs": [
    {
     "data": {
      "application/vnd.jupyter.widget-view+json": {
       "model_id": "c8abfcee39ef46ccbc06007ba7c71c67",
       "version_major": 2,
       "version_minor": 0
      },
      "text/plain": [
       "  0%|          | 0/210 [00:00<?, ?it/s]"
      ]
     },
     "metadata": {},
     "output_type": "display_data"
    },
    {
     "name": "stdout",
     "output_type": "stream",
     "text": [
      "loop number 6   ****  'Gucci | Sunglasses | Violet' is not in list  ****\n",
      "loop number 7   ****  'Versace | Sunglasses | Brown' is not in list  ****\n",
      "loop number 8   ****  'Versace | Sunglasses | Green' is not in list  ****\n",
      "loop number 11   ****  'Tommy Hilfiger | Sunglasses | Grey' is not in list  ****\n",
      "loop number 14   ****  'Lacoste | Sunglasses | Blue' is not in list  ****\n",
      "loop number 15   ****  'U.S. Polo Assn. | Sunglasses | Brown' is not in list  ****\n",
      "loop number 17   ****  'DKNY | Sunglasses | Blue' is not in list  ****\n",
      "loop number 18   ****  'DKNY | Sunglasses | Green' is not in list  ****\n",
      "loop number 21   ****  'Polo Ralph Lauren | Sunglasses | Brown' is not in list  ****\n",
      "loop number 30   ****  'Puma | T-Shirt | Grey' is not in list  ****\n",
      "loop number 33   ****  'Calvin Klein | T-Shirt | Grey' is not in list  ****\n",
      "loop number 35   ****  'Reebok | T-Shirt | Orange' is not in list  ****\n",
      "loop number 38   ****  'Brooks Brothers | T-Shirt | Black' is not in list  ****\n",
      "loop number 40   ****  'Haimont | T-Shirt | Red' is not in list  ****\n",
      "loop number 41   ****  'Haimont | T-Shirt | Black' is not in list  ****\n",
      "loop number 42   ****  'Haimont | T-Shirt | Blue' is not in list  ****\n",
      "loop number 43   ****  'Nike | Shoes | Pink' is not in list  ****\n",
      "loop number 44   ****  'Nike | Shoes | Grey' is not in list  ****\n",
      "loop number 45   ****  'Adidas | Shoes | Blue' is not in list  ****\n",
      "loop number 47   ****  'Puma | Shoes | White' is not in list  ****\n",
      "loop number 48   ****  'Puma | Shoes | Grey' is not in list  ****\n",
      "loop number 50   ****  'Under Armour | Shoes | Orange' is not in list  ****\n",
      "loop number 55   ****  'FitVille | Shoes | White' is not in list  ****\n",
      "loop number 56   ****  'FitVille | Shoes | Pink' is not in list  ****\n",
      "loop number 58   ****  'Brooks | Shoes | Black' is not in list  ****\n",
      "loop number 61   ****  'Red Tape | Shoes | White' is not in list  ****\n",
      "loop number 62   ****  'Red Tape | Shoes | Brown' is not in list  ****\n",
      "loop number 63   ****  'Red Tape | Shoes | Pink' is not in list  ****\n",
      "loop number 64   ****  'U.S. Polo Assn. | Jacket | Grey' is not in list  ****\n",
      "loop number 66   ****  'Puma | Jacket | Blue' is not in list  ****\n",
      "loop number 68   ****  'Reebok | Jacket | Brown' is not in list  ****\n",
      "loop number 69   ****  'Reebok | Jacket | Pink' is not in list  ****\n",
      "loop number 71   ****  'Under Armour | Jacket | Blue' is not in list  ****\n",
      "loop number 72   ****  'Little Donkey Andy | Jacket | Green' is not in list  ****\n",
      "loop number 73   ****  'Little Donkey Andy | Jacket | Grey' is not in list  ****\n",
      "loop number 74   ****  '33,000ft | Jacket | Black' is not in list  ****\n",
      "loop number 75   ****  '33,000ft | Jacket | Green' is not in list  ****\n",
      "loop number 76   ****  'Columbia | Jacket | Black' is not in list  ****\n",
      "loop number 81   ****  'MAGCOMSEN | Jacket | Black' is not in list  ****\n",
      "loop number 82   ****  'The North Face | Jacket | Green' is not in list  ****\n",
      "loop number 85   ****  'Tommy Hilfiger | Socks | Red' is not in list  ****\n",
      "loop number 86   ****  'Tommy Hilfiger | Socks | Pink' is not in list  ****\n",
      "loop number 87   ****  'Nike | Socks | Blue' is not in list  ****\n",
      "loop number 91   ****  'Puma | Socks | Black' is not in list  ****\n",
      "loop number 93   ****  'Calvin Klein | Socks | Blue' is not in list  ****\n",
      "loop number 94   ****  'Calvin Klein | Socks | Black' is not in list  ****\n",
      "loop number 95   ****  'Under Armour | Socks | Pink' is not in list  ****\n",
      "loop number 96   ****  'Under Armour | Socks | Blue' is not in list  ****\n",
      "loop number 99   ****  'Columbia | Socks | Brown' is not in list  ****\n",
      "loop number 100   ****  'Columbia | Socks | Grey' is not in list  ****\n",
      "loop number 101   ****  'Darn Tough | Socks | Green' is not in list  ****\n",
      "loop number 102   ****  'Darn Tough | Socks | Grey' is not in list  ****\n",
      "loop number 103   ****  'VRD | Socks | Green' is not in list  ****\n",
      "loop number 104   ****  'VRD | Socks | Brown' is not in list  ****\n",
      "loop number 106   ****  'Nike | Track Pant | Pink' is not in list  ****\n",
      "loop number 107   ****  'Nike | Track Pant | Yellow' is not in list  ****\n",
      "loop number 109   ****  'Adidas | Track Pant | Red' is not in list  ****\n",
      "loop number 110   ****  'Puma | Track Pant | Blue' is not in list  ****\n",
      "loop number 111   ****  'Puma | Track Pant | Grey' is not in list  ****\n",
      "loop number 112   ****  'Reebok | Track Pant | Black' is not in list  ****\n",
      "loop number 113   ****  'Reebok | Track Pant | Blue' is not in list  ****\n",
      "loop number 116   ****  'G Gradual | Track Pant | Brown' is not in list  ****\n",
      "loop number 117   ****  'G Gradual | Track Pant | Green' is not in list  ****\n",
      "loop number 118   ****  'Fila | Track Pant | Blue' is not in list  ****\n",
      "loop number 122   ****  'Champion | Track Pant | Red' is not in list  ****\n",
      "loop number 123   ****  'Champion | Track Pant | Grey' is not in list  ****\n",
      "loop number 124   ****  'NORTHYARD | Track Pant | Brown' is not in list  ****\n",
      "loop number 125   ****  'NORTHYARD | Track Pant | Grey' is not in list  ****\n",
      "loop number 126   ****  'NORTHYARD | Track Pant | Grey' is not in list  ****\n",
      "loop number 134   ****  'Reebok | Shorts | Grey' is not in list  ****\n",
      "loop number 136   ****  'Under Armour | Shorts | Red' is not in list  ****\n",
      "loop number 137   ****  'Haimont | Shorts | White' is not in list  ****\n",
      "loop number 138   ****  'Haimont | Shorts | Green' is not in list  ****\n",
      "loop number 139   ****  'G Gradual | Shorts | Black' is not in list  ****\n",
      "loop number 140   ****  'G Gradual | Shorts | Blue' is not in list  ****\n",
      "loop number 141   ****  'Champion | Shorts | Blue' is not in list  ****\n",
      "loop number 142   ****  'Champion | Shorts | Grey' is not in list  ****\n",
      "loop number 143   ****  'NORTHYARD | Shorts | Green' is not in list  ****\n",
      "loop number 144   ****  'NORTHYARD | Shorts | Orange' is not in list  ****\n",
      "loop number 148   ****  'Tommy Hilfiger | Cap | Red' is not in list  ****\n",
      "loop number 152   ****  'Adidas | Cap | Green' is not in list  ****\n",
      "loop number 153   ****  'Adidas | Cap | White' is not in list  ****\n",
      "loop number 162   ****  'Champion | Cap | Pink' is not in list  ****\n",
      "loop number 166   ****  'Timberland | Cap | Black' is not in list  ****\n",
      "loop number 167   ****  'Timberland | Cap | Grey' is not in list  ****\n",
      "loop number 168   ****  'Timberland | Cap | Blue' is not in list  ****\n",
      "loop number 169   ****  'Lacoste | Bag | Grey' is not in list  ****\n",
      "loop number 173   ****  'Adidas | Bag | Grey' is not in list  ****\n",
      "loop number 179   ****  'Under Armour | Bag | Violet' is not in list  ****\n",
      "loop number 181   ****  'Haimont | Bag | Black' is not in list  ****\n",
      "loop number 182   ****  'Haimont | Bag | Green' is not in list  ****\n",
      "loop number 187   ****  'Fila | Bag | Purple' is not in list  ****\n",
      "loop number 188   ****  'Fila | Bag | Black' is not in list  ****\n",
      "loop number 189   ****  'Fila | Bag | Black' is not in list  ****\n",
      "loop number 193   ****  'Nike | Beanie | Grey' is not in list  ****\n",
      "loop number 195   ****  'Adidas | Beanie | Green' is not in list  ****\n",
      "loop number 197   ****  'Puma | Beanie | Pink' is not in list  ****\n",
      "loop number 200   ****  'Columbia | Beanie | Pink' is not in list  ****\n",
      "loop number 204   ****  'Champion | Beanie | Grey' is not in list  ****\n",
      "loop number 205   ****  'Champion | Beanie | Red' is not in list  ****\n",
      "loop number 208   ****  'Timberland | Beanie | Brown' is not in list  ****\n",
      "loop number 209   ****  'Timberland | Beanie | Black' is not in list  ****\n",
      "loop number 210   ****  'Timberland | Beanie | Grey' is not in list  ****\n",
      "**** value of n:  210.0  ****\n",
      "Top-1 accuracy: 25.24\n",
      "Top-5 accuracy: 40.95\n"
     ]
    }
   ],
   "source": [
    "import numpy as np\n",
    "import torch\n",
    "from tqdm.notebook import tqdm\n",
    "\n",
    "with torch.no_grad():\n",
    "    top1, top5, n = 0., 0., 0.\n",
    "    \n",
    "    for i, (img, target) in enumerate(tqdm(dataset)):        \n",
    "        \n",
    "        image = []\n",
    "        image.append(img)\n",
    "        image = torch.tensor(np.stack(image))\n",
    "        image_features = model.encode_image(image)\n",
    "        image_features /= image_features.norm(dim=-1, keepdim=True)\n",
    "        \n",
    "        brand_logits = 100. * image_features @ zeroshot_brands_weights\n",
    "        category_logits = 100. * image_features @ zeroshot_categories_weights\n",
    "        color_logits = 100. * image_features @ zeroshot_colors_weights\n",
    "        \n",
    "        brand_probs = brand_logits.softmax(dim=-1)        \n",
    "        category_probs = category_logits.softmax(dim=-1)        \n",
    "        color_probs = color_logits.softmax(dim=-1)\n",
    "                \n",
    "        \n",
    "        top_brand_probs, top_brand_indexes = brand_probs.cpu().topk(5, dim=-1)\n",
    "        top_category_probs, top_category_indexes = category_probs.cpu().topk(2, dim=-1)\n",
    "        top_color_probs, top_color_indexes = color_probs.cpu().topk(2, dim=-1)\n",
    "                \n",
    "        predicted_brands = evaluation.top_elemets(brands, top_brand_indexes)\n",
    "        predicted_categories = evaluation.top_elemets(categories, top_category_indexes)\n",
    "        predicted_colors = evaluation.top_elemets(colors, top_color_indexes)\n",
    "        \n",
    "        predicted_titles = []\n",
    "        l=j=k=0\n",
    "\n",
    "        for l in range(len(predicted_brands)):\n",
    "            for j in range(len(predicted_categories)):\n",
    "                for k in range(len(predicted_colors)):\n",
    "                    predicted_titles.append(predicted_brands[l] + \" | \" + predicted_categories[j] + \" | \" + predicted_colors[k])\n",
    "        \n",
    "        zeroshot_title_weights = evaluation.zeroshot_weight_calculator(predicted_titles)        \n",
    "        predicted_title_logits = 100. * image_features @ zeroshot_title_weights        \n",
    "        \n",
    "        try:\n",
    "            target_index = predicted_titles.index(target)\n",
    "            acc1, acc5 = evaluation.accuracy(predicted_title_logits, target_index, topk=(1,4))\n",
    "            top1 += acc1\n",
    "            top5 += acc5\n",
    "            \n",
    "        except Exception as e:\n",
    "            print(f\"loop number {i+1}  \",\"**** \",e,\" ****\")\n",
    "        \n",
    "        n += image.size(0)\n",
    "        \n",
    "print(\"**** value of n: \",n,\" ****\")    \n",
    "        \n",
    "top1 = (top1 / n) * 100\n",
    "top5 = (top5 / n) * 100 \n",
    "\n",
    "print(f\"Top-1 accuracy: {top1:.2f}\")\n",
    "print(f\"Top-5 accuracy: {top5:.2f}\")"
   ]
  },
  {
   "cell_type": "code",
   "execution_count": null,
   "id": "77983782-cbd8-4f9f-824b-432f3acb0121",
   "metadata": {},
   "outputs": [],
   "source": []
  }
 ],
 "metadata": {
  "kernelspec": {
   "display_name": "Python 3 (ipykernel)",
   "language": "python",
   "name": "python3"
  },
  "language_info": {
   "codemirror_mode": {
    "name": "ipython",
    "version": 3
   },
   "file_extension": ".py",
   "mimetype": "text/x-python",
   "name": "python",
   "nbconvert_exporter": "python",
   "pygments_lexer": "ipython3",
   "version": "3.13.5"
  }
 },
 "nbformat": 4,
 "nbformat_minor": 5
}
