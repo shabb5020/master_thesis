{
 "cells": [
  {
   "cell_type": "code",
   "execution_count": 1,
   "id": "bc252d2e-a056-4d4e-9ed5-0a39b788641f",
   "metadata": {},
   "outputs": [],
   "source": [
    "import sys\n",
    "sys.path.append('../base_model')"
   ]
  },
  {
   "cell_type": "markdown",
   "id": "c5586dd5-a518-4c41-98f4-50ff4fa00a21",
   "metadata": {},
   "source": [
    "### initialize clip"
   ]
  },
  {
   "cell_type": "code",
   "execution_count": 4,
   "id": "e418e91f-78ed-455b-8190-212ffbe0bc97",
   "metadata": {},
   "outputs": [
    {
     "ename": "UnpicklingError",
     "evalue": "Weights only load failed. This file can still be loaded, to do so you have two options, \u001b[1mdo those steps only if you trust the source of the checkpoint\u001b[0m. \n\t(1) In PyTorch 2.6, we changed the default value of the `weights_only` argument in `torch.load` from `False` to `True`. Re-running `torch.load` with `weights_only` set to `False` will likely succeed, but it can result in arbitrary code execution. Do it only if you got the file from a trusted source.\n\t(2) Alternatively, to load with `weights_only=True` please check the recommended steps in the following error message.\n\tWeightsUnpickler error: Unsupported global: GLOBAL clip.model.CLIP was not an allowed global by default. Please use `torch.serialization.add_safe_globals([clip.model.CLIP])` or the `torch.serialization.safe_globals([clip.model.CLIP])` context manager to allowlist this global if you trust this class/function.\n\nCheck the documentation of torch.load to learn more about types accepted by default with weights_only https://pytorch.org/docs/stable/generated/torch.load.html.",
     "output_type": "error",
     "traceback": [
      "\u001b[31m---------------------------------------------------------------------------\u001b[39m",
      "\u001b[31mUnpicklingError\u001b[39m                           Traceback (most recent call last)",
      "\u001b[36mCell\u001b[39m\u001b[36m \u001b[39m\u001b[32mIn[4]\u001b[39m\u001b[32m, line 8\u001b[39m\n\u001b[32m      5\u001b[39m preprocess = evaluation.preprocess\n\u001b[32m      7\u001b[39m input_model = \u001b[33m\"\u001b[39m\u001b[33m../../models/model_checkpoint_1a.pt\u001b[39m\u001b[33m\"\u001b[39m\n\u001b[32m----> \u001b[39m\u001b[32m8\u001b[39m model = torch.load(input_model)\n",
      "\u001b[36mFile \u001b[39m\u001b[32mC:\\mySourceCode\\anaconda3\\envs\\thesis\\Lib\\site-packages\\torch\\serialization.py:1529\u001b[39m, in \u001b[36mload\u001b[39m\u001b[34m(f, map_location, pickle_module, weights_only, mmap, **pickle_load_args)\u001b[39m\n\u001b[32m   1521\u001b[39m                 \u001b[38;5;28;01mreturn\u001b[39;00m _load(\n\u001b[32m   1522\u001b[39m                     opened_zipfile,\n\u001b[32m   1523\u001b[39m                     map_location,\n\u001b[32m   (...)\u001b[39m\u001b[32m   1526\u001b[39m                     **pickle_load_args,\n\u001b[32m   1527\u001b[39m                 )\n\u001b[32m   1528\u001b[39m             \u001b[38;5;28;01mexcept\u001b[39;00m pickle.UnpicklingError \u001b[38;5;28;01mas\u001b[39;00m e:\n\u001b[32m-> \u001b[39m\u001b[32m1529\u001b[39m                 \u001b[38;5;28;01mraise\u001b[39;00m pickle.UnpicklingError(_get_wo_message(\u001b[38;5;28mstr\u001b[39m(e))) \u001b[38;5;28;01mfrom\u001b[39;00m\u001b[38;5;250m \u001b[39m\u001b[38;5;28;01mNone\u001b[39;00m\n\u001b[32m   1530\u001b[39m         \u001b[38;5;28;01mreturn\u001b[39;00m _load(\n\u001b[32m   1531\u001b[39m             opened_zipfile,\n\u001b[32m   1532\u001b[39m             map_location,\n\u001b[32m   (...)\u001b[39m\u001b[32m   1535\u001b[39m             **pickle_load_args,\n\u001b[32m   1536\u001b[39m         )\n\u001b[32m   1537\u001b[39m \u001b[38;5;28;01mif\u001b[39;00m mmap:\n",
      "\u001b[31mUnpicklingError\u001b[39m: Weights only load failed. This file can still be loaded, to do so you have two options, \u001b[1mdo those steps only if you trust the source of the checkpoint\u001b[0m. \n\t(1) In PyTorch 2.6, we changed the default value of the `weights_only` argument in `torch.load` from `False` to `True`. Re-running `torch.load` with `weights_only` set to `False` will likely succeed, but it can result in arbitrary code execution. Do it only if you got the file from a trusted source.\n\t(2) Alternatively, to load with `weights_only=True` please check the recommended steps in the following error message.\n\tWeightsUnpickler error: Unsupported global: GLOBAL clip.model.CLIP was not an allowed global by default. Please use `torch.serialization.add_safe_globals([clip.model.CLIP])` or the `torch.serialization.safe_globals([clip.model.CLIP])` context manager to allowlist this global if you trust this class/function.\n\nCheck the documentation of torch.load to learn more about types accepted by default with weights_only https://pytorch.org/docs/stable/generated/torch.load.html."
     ]
    }
   ],
   "source": [
    "import evaluation\n",
    "import torch\n",
    "\n",
    "#base_model = evaluation.model\n",
    "model = evaluation.model\n",
    "preprocess = evaluation.preprocess\n",
    "\n",
    "#input_model = \"../../models/model_checkpoint_1a.pt\"\n",
    "#model = torch.load(input_model)"
   ]
  },
  {
   "cell_type": "markdown",
   "id": "6d7a0d53-5243-47e5-86a5-6e44395cc273",
   "metadata": {},
   "source": [
    "### Get images and titles for evaluation"
   ]
  },
  {
   "cell_type": "code",
   "execution_count": 5,
   "id": "8d26c240-1d58-43ca-821a-0e11de11663a",
   "metadata": {},
   "outputs": [
    {
     "name": "stdout",
     "output_type": "stream",
     "text": [
      "210 | 210\n"
     ]
    }
   ],
   "source": [
    "images_path = evaluation.images_path\n",
    "texts_file = evaluation.text_file_brands\n",
    "\n",
    "texts_list = evaluation.read_text(texts_file)\n",
    "images, titles = evaluation.get_image_title(texts_list)\n",
    "\n",
    "print(len(images), \"|\", len(titles))"
   ]
  },
  {
   "cell_type": "markdown",
   "id": "f6a417b1-a655-4deb-851d-c3aac0d916a1",
   "metadata": {},
   "source": [
    "### create dataset"
   ]
  },
  {
   "cell_type": "code",
   "execution_count": 6,
   "id": "afd603ba",
   "metadata": {},
   "outputs": [],
   "source": [
    "dataset = evaluation.image_title_dataset(images, titles)"
   ]
  },
  {
   "cell_type": "markdown",
   "id": "2893d0a2-c87f-402b-8f0a-cb29b9f00f2b",
   "metadata": {},
   "source": [
    "### brand weight"
   ]
  },
  {
   "cell_type": "code",
   "execution_count": 7,
   "id": "4ed6d71d",
   "metadata": {},
   "outputs": [
    {
     "name": "stdout",
     "output_type": "stream",
     "text": [
      "torch.Size([512, 40])\n"
     ]
    }
   ],
   "source": [
    "brands = evaluation.brands\n",
    "brands_template = evaluation.brands_template\n",
    "\n",
    "zeroshot_brand_weights = evaluation.zeroshot_weight_calculator_tmpl(brands, brands_template)\n",
    "\n",
    "print(zeroshot_brand_weights.shape)"
   ]
  },
  {
   "cell_type": "markdown",
   "id": "345b3ebf-91ae-4e07-88c9-585f97cbad55",
   "metadata": {},
   "source": [
    "### calculate accuracy"
   ]
  },
  {
   "cell_type": "code",
   "execution_count": 8,
   "id": "dbd85f74",
   "metadata": {},
   "outputs": [
    {
     "data": {
      "application/vnd.jupyter.widget-view+json": {
       "model_id": "2151b3f93f6a4cd0bb531d23e1a8b591",
       "version_major": 2,
       "version_minor": 0
      },
      "text/plain": [
       "  0%|          | 0/210 [00:00<?, ?it/s]"
      ]
     },
     "metadata": {},
     "output_type": "display_data"
    },
    {
     "ename": "NameError",
     "evalue": "name 'model' is not defined",
     "output_type": "error",
     "traceback": [
      "\u001b[31m---------------------------------------------------------------------------\u001b[39m",
      "\u001b[31mNameError\u001b[39m                                 Traceback (most recent call last)",
      "\u001b[36mCell\u001b[39m\u001b[36m \u001b[39m\u001b[32mIn[8]\u001b[39m\u001b[32m, line 13\u001b[39m\n\u001b[32m     11\u001b[39m image.append(img)\n\u001b[32m     12\u001b[39m image = torch.tensor(np.stack(image))\n\u001b[32m---> \u001b[39m\u001b[32m13\u001b[39m image_features = model.encode_image(image)\n\u001b[32m     14\u001b[39m image_features /= image_features.norm(dim=-\u001b[32m1\u001b[39m, keepdim=\u001b[38;5;28;01mTrue\u001b[39;00m)\n\u001b[32m     15\u001b[39m logits = \u001b[32m100.\u001b[39m * image_features @ zeroshot_brand_weights\n",
      "\u001b[31mNameError\u001b[39m: name 'model' is not defined"
     ]
    }
   ],
   "source": [
    "import numpy as np\n",
    "from tqdm.notebook import tqdm\n",
    "import torch\n",
    "\n",
    "with torch.no_grad():\n",
    "    top1, top5, n = 0., 0., 0.\n",
    "    \n",
    "    for i, (img, title) in enumerate(tqdm(dataset)):\n",
    "        \n",
    "        image = []\n",
    "        image.append(img)\n",
    "        image = torch.tensor(np.stack(image))\n",
    "        image_features = model.encode_image(image)\n",
    "        image_features /= image_features.norm(dim=-1, keepdim=True)\n",
    "        logits = 100. * image_features @ zeroshot_brand_weights\n",
    "        target_index = brands.index(title)\n",
    "        \n",
    "        acc1, acc5 = evaluation.accuracy(logits, target_index, topk=(1,5))\n",
    "        top1 += acc1\n",
    "        top5 += acc5        \n",
    "        n += image.size(0)        \n",
    "        \n",
    "top1 = (top1 / n) * 100\n",
    "top5 = (top5 / n) * 100 \n",
    "\n",
    "print(f\"Top-1 accuracy: {top1:.2f}\")\n",
    "print(f\"Top-5 accuracy: {top5:.2f}\")"
   ]
  },
  {
   "cell_type": "code",
   "execution_count": null,
   "id": "fdaf9184",
   "metadata": {},
   "outputs": [],
   "source": []
  }
 ],
 "metadata": {
  "kernelspec": {
   "display_name": "Python 3 (ipykernel)",
   "language": "python",
   "name": "python3"
  },
  "language_info": {
   "codemirror_mode": {
    "name": "ipython",
    "version": 3
   },
   "file_extension": ".py",
   "mimetype": "text/x-python",
   "name": "python",
   "nbconvert_exporter": "python",
   "pygments_lexer": "ipython3",
   "version": "3.13.5"
  }
 },
 "nbformat": 4,
 "nbformat_minor": 5
}
