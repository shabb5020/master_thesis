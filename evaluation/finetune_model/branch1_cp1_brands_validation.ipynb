{
 "cells": [
  {
   "cell_type": "code",
   "execution_count": 1,
   "id": "bc252d2e-a056-4d4e-9ed5-0a39b788641f",
   "metadata": {},
   "outputs": [],
   "source": [
    "import sys\n",
    "sys.path.append('../base_model')"
   ]
  },
  {
   "cell_type": "markdown",
   "id": "c5586dd5-a518-4c41-98f4-50ff4fa00a21",
   "metadata": {},
   "source": [
    "### initialize clip"
   ]
  },
  {
   "cell_type": "code",
   "execution_count": 9,
   "id": "e418e91f-78ed-455b-8190-212ffbe0bc97",
   "metadata": {},
   "outputs": [],
   "source": [
    "import evaluation\n",
    "import torch\n",
    "\n",
    "#base_model = evaluation.model\n",
    "model = evaluation.model\n",
    "preprocess = evaluation.preprocess\n",
    "\n",
    "#input_model = \"../../models/model_checkpoint_1a.pt\"\n",
    "#model = torch.load(input_model)"
   ]
  },
  {
   "cell_type": "markdown",
   "id": "6d7a0d53-5243-47e5-86a5-6e44395cc273",
   "metadata": {},
   "source": [
    "### Get images and titles for evaluation"
   ]
  },
  {
   "cell_type": "code",
   "execution_count": 5,
   "id": "8d26c240-1d58-43ca-821a-0e11de11663a",
   "metadata": {},
   "outputs": [
    {
     "name": "stdout",
     "output_type": "stream",
     "text": [
      "210 | 210\n"
     ]
    }
   ],
   "source": [
    "images_path = evaluation.images_path\n",
    "texts_file = evaluation.text_file_brands\n",
    "\n",
    "texts_list = evaluation.read_text(texts_file)\n",
    "images, titles = evaluation.get_image_title(texts_list)\n",
    "\n",
    "print(len(images), \"|\", len(titles))"
   ]
  },
  {
   "cell_type": "markdown",
   "id": "f6a417b1-a655-4deb-851d-c3aac0d916a1",
   "metadata": {},
   "source": [
    "### create dataset"
   ]
  },
  {
   "cell_type": "code",
   "execution_count": 6,
   "id": "afd603ba",
   "metadata": {},
   "outputs": [],
   "source": [
    "dataset = evaluation.image_title_dataset(images, titles)"
   ]
  },
  {
   "cell_type": "markdown",
   "id": "2893d0a2-c87f-402b-8f0a-cb29b9f00f2b",
   "metadata": {},
   "source": [
    "### brand weight"
   ]
  },
  {
   "cell_type": "code",
   "execution_count": 7,
   "id": "4ed6d71d",
   "metadata": {},
   "outputs": [
    {
     "name": "stdout",
     "output_type": "stream",
     "text": [
      "torch.Size([512, 40])\n"
     ]
    }
   ],
   "source": [
    "brands = evaluation.brands\n",
    "brands_template = evaluation.brands_template\n",
    "\n",
    "zeroshot_brand_weights = evaluation.zeroshot_weight_calculator_tmpl(brands, brands_template)\n",
    "\n",
    "print(zeroshot_brand_weights.shape)"
   ]
  },
  {
   "cell_type": "markdown",
   "id": "345b3ebf-91ae-4e07-88c9-585f97cbad55",
   "metadata": {},
   "source": [
    "### calculate accuracy"
   ]
  },
  {
   "cell_type": "code",
   "execution_count": 10,
   "id": "dbd85f74",
   "metadata": {},
   "outputs": [
    {
     "data": {
      "application/vnd.jupyter.widget-view+json": {
       "model_id": "7e30034c24ca4d6bae91a2b00161eba7",
       "version_major": 2,
       "version_minor": 0
      },
      "text/plain": [
       "  0%|          | 0/210 [00:00<?, ?it/s]"
      ]
     },
     "metadata": {},
     "output_type": "display_data"
    },
    {
     "name": "stdout",
     "output_type": "stream",
     "text": [
      "Top-1 accuracy: 27.62\n",
      "Top-5 accuracy: 55.24\n"
     ]
    }
   ],
   "source": [
    "import numpy as np\n",
    "from tqdm.notebook import tqdm\n",
    "import torch\n",
    "\n",
    "with torch.no_grad():\n",
    "    top1, top5, n = 0., 0., 0.\n",
    "    \n",
    "    for i, (img, title) in enumerate(tqdm(dataset)):\n",
    "        \n",
    "        image = []\n",
    "        image.append(img)\n",
    "        image = torch.tensor(np.stack(image))\n",
    "        image_features = model.encode_image(image)\n",
    "        image_features /= image_features.norm(dim=-1, keepdim=True)\n",
    "        logits = 100. * image_features @ zeroshot_brand_weights\n",
    "        target_index = brands.index(title)\n",
    "        \n",
    "        acc1, acc5 = evaluation.accuracy(logits, target_index, topk=(1,5))\n",
    "        top1 += acc1\n",
    "        top5 += acc5        \n",
    "        n += image.size(0)        \n",
    "        \n",
    "top1 = (top1 / n) * 100\n",
    "top5 = (top5 / n) * 100 \n",
    "\n",
    "print(f\"Top-1 accuracy: {top1:.2f}\")\n",
    "print(f\"Top-5 accuracy: {top5:.2f}\")"
   ]
  },
  {
   "cell_type": "code",
   "execution_count": null,
   "id": "fdaf9184",
   "metadata": {},
   "outputs": [],
   "source": []
  }
 ],
 "metadata": {
  "kernelspec": {
   "display_name": "Python 3 (ipykernel)",
   "language": "python",
   "name": "python3"
  },
  "language_info": {
   "codemirror_mode": {
    "name": "ipython",
    "version": 3
   },
   "file_extension": ".py",
   "mimetype": "text/x-python",
   "name": "python",
   "nbconvert_exporter": "python",
   "pygments_lexer": "ipython3",
   "version": "3.13.5"
  }
 },
 "nbformat": 4,
 "nbformat_minor": 5
}
