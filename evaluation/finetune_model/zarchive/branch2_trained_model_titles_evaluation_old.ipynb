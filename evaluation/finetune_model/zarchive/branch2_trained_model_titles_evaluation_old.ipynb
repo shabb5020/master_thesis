{
 "cells": [
  {
   "cell_type": "code",
   "execution_count": 1,
   "id": "4e1b73a0",
   "metadata": {},
   "outputs": [],
   "source": [
    "input_model = \"models/model_checkpoint_2a.pt\""
   ]
  },
  {
   "cell_type": "code",
   "execution_count": 2,
   "id": "1b31e00c",
   "metadata": {},
   "outputs": [],
   "source": [
    "import torch\n",
    "import clip\n",
    "\n",
    "device = \"cuda:0\" if torch.cuda.is_available() else \"cpu\"\n",
    "base_model, preprocess = clip.load(\"ViT-B/32\", device=device)\n",
    "\n",
    "model = torch.load(input_model)"
   ]
  },
  {
   "cell_type": "code",
   "execution_count": 3,
   "id": "7e967fdc",
   "metadata": {},
   "outputs": [],
   "source": [
    "images_directory = 'dataset/product_images/test/'\n",
    "text_file_location = 'dataset/product_titles_test.json'"
   ]
  },
  {
   "cell_type": "code",
   "execution_count": 4,
   "id": "6a81a5b2",
   "metadata": {},
   "outputs": [],
   "source": [
    "import json\n",
    "\n",
    "with open(text_file_location, 'r') as text_file:\n",
    "    input_text = []\n",
    "    for line in text_file:\n",
    "      json_obj = json.loads(line)\n",
    "      input_text.append(json_obj)"
   ]
  },
  {
   "cell_type": "code",
   "execution_count": 5,
   "id": "9cd30f22",
   "metadata": {},
   "outputs": [
    {
     "name": "stdout",
     "output_type": "stream",
     "text": [
      "210\n",
      "210\n"
     ]
    }
   ],
   "source": [
    "image_path_list = []\n",
    "text_list = []\n",
    "\n",
    "for item in input_text:\n",
    "  image_path = images_directory + item[\"image_path\"]\n",
    "  image_path_list.append(image_path)\n",
    "\n",
    "  title = item['product_title']\n",
    "  text_list.append(title)\n",
    "    \n",
    "print(len(image_path_list))\n",
    "print(len(text_list))"
   ]
  },
  {
   "cell_type": "code",
   "execution_count": 6,
   "id": "afd603ba",
   "metadata": {},
   "outputs": [],
   "source": [
    "from PIL import Image\n",
    "\n",
    "class image_title_dataset:\n",
    "  def __init__(self, image_path_list, text_list):\n",
    "    self.image_path = image_path_list\n",
    "    self.title = text_list\n",
    "\n",
    "  def __len__(self):\n",
    "    return len(self.title)\n",
    "\n",
    "  def __getitem__(self, idx):\n",
    "    image = preprocess(Image.open(self.image_path[idx]))\n",
    "    title = self.title[idx]\n",
    "    return image, title\n",
    "\n",
    "dataset = image_title_dataset(image_path_list, text_list)"
   ]
  },
  {
   "cell_type": "code",
   "execution_count": 7,
   "id": "e61f1ef3",
   "metadata": {},
   "outputs": [],
   "source": [
    "brand_list = [\"Ray-Ban\", \"Carrera\", \"Gucci\", \"Versace\", \"Prada\", \"Tommy Hilfiger\", \"Lacoste\", \"U.S. Polo Assn.\", \"DKNY\", \"Polo Ralph Lauren\", \"Nike\", \"Adidas\", \"Puma\", \"Calvin Klein\", \"Reebok\", \"Under Armour\", \"Brooks Brothers\", \"Haimont\", \"ASICS\", \"Saucony\", \"FitVille\", \"Brooks\", \"Skechers\", \"Red Tape\", \"Little Donkey Andy\", \"33,000ft\", \"Columbia\", \"Carhartt\", \"MAGCOMSEN\", \"The North Face\", \"Darn Tough\", \"VRD\", \"G Gradual\", \"Fila\", \"BROKIG\", \"Champion\", \"NORTHYARD\", \"Mizuno\", \"Hurley\", \"Timberland\"]\n",
    "brand_templates = [\n",
    "    'the brand is {}.',\n",
    "    'the manufacturer is {}.',\n",
    "    'the item is made by {}.',\n",
    "    'the product is manufactured by {}.'\n",
    "]\n",
    "\n",
    "category_list = [\"Sunglasses\", \"T-Shirt\", \"Shoes\", \"Jacket\", \"Socks\", \"Track Pant\", \"Shorts\", \"Cap\", \"Bag\", \"Beanie\"]\n",
    "category_templates = [\n",
    "    'the product is {}.',\n",
    "    'the product is called {}.',\n",
    "    'the item is identified as {}.',\n",
    "    'the item is sold as {}.'\n",
    "]\n",
    "\n",
    "color_list = [\"Black\", \"White\", \"Grey\", \"Brown\", \"Red\", \"Green\", \"Blue\", \"Orange\", \"Yellow\", \"Pink\", \"Violet\", \"Purple\"]\n",
    "color_templates = [\n",
    "    'the color is {}.',\n",
    "    'the item is {} in hue.',\n",
    "    'the product is {} in color.',\n",
    "    'the shade of the product is {}.'\n",
    "]"
   ]
  },
  {
   "cell_type": "code",
   "execution_count": 8,
   "id": "e9543256",
   "metadata": {},
   "outputs": [
    {
     "data": {
      "application/vnd.jupyter.widget-view+json": {
       "model_id": "2d8da5dfcaca412aa4194c8420d5f707",
       "version_major": 2,
       "version_minor": 0
      },
      "text/plain": [
       "  0%|          | 0/40 [00:00<?, ?it/s]"
      ]
     },
     "metadata": {},
     "output_type": "display_data"
    },
    {
     "data": {
      "application/vnd.jupyter.widget-view+json": {
       "model_id": "91fb4ea9c43d47018d732068500a3389",
       "version_major": 2,
       "version_minor": 0
      },
      "text/plain": [
       "  0%|          | 0/10 [00:00<?, ?it/s]"
      ]
     },
     "metadata": {},
     "output_type": "display_data"
    },
    {
     "data": {
      "application/vnd.jupyter.widget-view+json": {
       "model_id": "0a9f49fb97684ed69a2e28e7c19f7242",
       "version_major": 2,
       "version_minor": 0
      },
      "text/plain": [
       "  0%|          | 0/12 [00:00<?, ?it/s]"
      ]
     },
     "metadata": {},
     "output_type": "display_data"
    }
   ],
   "source": [
    "from tqdm.notebook import tqdm\n",
    "\n",
    "def zeroshot_weight_calculator(classification_list, templates):\n",
    "    with torch.no_grad():\n",
    "        weights = []\n",
    "        for element in tqdm(classification_list):\n",
    "            texts = [template.format(element) for template in templates]\n",
    "            texts = clip.tokenize(texts)\n",
    "            text_embeddings = model.encode_text(texts)\n",
    "            text_embeddings /= text_embeddings.norm(dim=-1, keepdim=True)\n",
    "            text_embedding = text_embeddings.mean(dim=0)\n",
    "            text_embedding /= text_embedding.norm()\n",
    "            weights.append(text_embedding)\n",
    "        nn_weights = torch.stack(weights, dim=1)\n",
    "    return nn_weights\n",
    "\n",
    "zeroshot_brand_weights = zeroshot_weight_calculator(brand_list, brand_templates)\n",
    "zeroshot_category_weights = zeroshot_weight_calculator(category_list, category_templates)\n",
    "zeroshot_color_weights = zeroshot_weight_calculator(color_list, color_templates)"
   ]
  },
  {
   "cell_type": "code",
   "execution_count": 9,
   "id": "1c28d1bc",
   "metadata": {},
   "outputs": [
    {
     "name": "stdout",
     "output_type": "stream",
     "text": [
      "torch.Size([512, 40])\n",
      "torch.Size([512, 10])\n",
      "torch.Size([512, 12])\n"
     ]
    }
   ],
   "source": [
    "print(zeroshot_brand_weights.shape)\n",
    "print(zeroshot_category_weights.shape)\n",
    "print(zeroshot_color_weights.shape)"
   ]
  },
  {
   "cell_type": "code",
   "execution_count": 10,
   "id": "dc7f08bd",
   "metadata": {},
   "outputs": [],
   "source": [
    "def top_elemets(attribute, indexes):\n",
    "    temp = []\n",
    "    \n",
    "    for i in range(len(indexes[0])):\n",
    "        temp.append(attribute[indexes[0][i]])\n",
    "    return temp"
   ]
  },
  {
   "cell_type": "code",
   "execution_count": 11,
   "id": "fd781176",
   "metadata": {},
   "outputs": [],
   "source": [
    "def accuracy(output, target, topk=(1,)):\n",
    "    pred = output.topk(max(topk), 1, True, True)[1].t()\n",
    "    target = torch.tensor(target)\n",
    "    correct = pred.eq(target.view(1, -1).expand_as(pred))\n",
    "    return [float(correct[:k].reshape(-1).float().sum(0, keepdim=True).cpu().numpy()) for k in topk]"
   ]
  },
  {
   "cell_type": "code",
   "execution_count": 12,
   "id": "1c014693",
   "metadata": {},
   "outputs": [],
   "source": [
    "def zeroshot_weight_calculator_without_templ(title_batch):\n",
    "    \n",
    "    tokens = clip.tokenize(title_batch)\n",
    "    class_embeddings = model.encode_text(tokens)\n",
    "    class_embeddings /= class_embeddings.norm(dim=-1, keepdim=True)    \n",
    "    nn_weights = class_embeddings.T\n",
    "    \n",
    "    return nn_weights"
   ]
  },
  {
   "cell_type": "code",
   "execution_count": 14,
   "id": "923457c2",
   "metadata": {},
   "outputs": [
    {
     "data": {
      "application/vnd.jupyter.widget-view+json": {
       "model_id": "780465cbe6b2468eb57908e7373164fe",
       "version_major": 2,
       "version_minor": 0
      },
      "text/plain": [
       "  0%|          | 0/210 [00:00<?, ?it/s]"
      ]
     },
     "metadata": {},
     "output_type": "display_data"
    },
    {
     "name": "stdout",
     "output_type": "stream",
     "text": [
      "loop number 3   ****  'Carrera | Sunglasses | Black' is not in list  ****\n",
      "loop number 4   ****  'Carrera | Sunglasses | Blue' is not in list  ****\n",
      "loop number 5   ****  'Gucci | Sunglasses | Grey' is not in list  ****\n",
      "loop number 6   ****  'Gucci | Sunglasses | Brown' is not in list  ****\n",
      "loop number 7   ****  'Versace | Sunglasses | Black' is not in list  ****\n",
      "loop number 8   ****  'Versace | Sunglasses | Grey' is not in list  ****\n",
      "loop number 9   ****  'Prada | Sunglasses | Black' is not in list  ****\n",
      "loop number 10   ****  'Prada | Sunglasses | Brown' is not in list  ****\n",
      "loop number 13   ****  'Lacoste | Sunglasses | Blue' is not in list  ****\n",
      "loop number 14   ****  'Lacoste | Sunglasses | Black' is not in list  ****\n",
      "loop number 17   ****  'DKNY | Sunglasses | Red' is not in list  ****\n",
      "loop number 18   ****  'DKNY | Sunglasses | Brown' is not in list  ****\n",
      "loop number 19   ****  'Polo Ralph Lauren | Sunglasses | Blue' is not in list  ****\n",
      "loop number 21   ****  'Polo Ralph Lauren | Sunglasses | Brown' is not in list  ****\n",
      "loop number 22   ****  'Lacoste | T-Shirt | Black' is not in list  ****\n",
      "loop number 23   ****  'Lacoste | T-Shirt | Pink' is not in list  ****\n",
      "loop number 28   ****  'Adidas | T-Shirt | Green' is not in list  ****\n",
      "loop number 32   ****  'Calvin Klein | T-Shirt | Grey' is not in list  ****\n",
      "loop number 40   ****  'Haimont | T-Shirt | Grey' is not in list  ****\n",
      "loop number 42   ****  'Haimont | T-Shirt | White' is not in list  ****\n",
      "loop number 47   ****  'Puma | Shoes | Grey' is not in list  ****\n",
      "loop number 48   ****  'Puma | Shoes | Blue' is not in list  ****\n",
      "loop number 49   ****  'Under Armour | Shoes | White' is not in list  ****\n",
      "loop number 55   ****  'FitVille | Shoes | Black' is not in list  ****\n",
      "loop number 61   ****  'Red Tape | Shoes | White' is not in list  ****\n",
      "loop number 62   ****  'Red Tape | Shoes | Grey' is not in list  ****\n",
      "loop number 63   ****  'Red Tape | Shoes | Blue' is not in list  ****\n",
      "loop number 72   ****  'Little Donkey Andy | Jacket | Red' is not in list  ****\n",
      "loop number 73   ****  'Little Donkey Andy | Jacket | Blue' is not in list  ****\n",
      "loop number 74   ****  '33,000ft | Jacket | Blue' is not in list  ****\n",
      "loop number 75   ****  '33,000ft | Jacket | Red' is not in list  ****\n",
      "loop number 77   ****  'Columbia | Jacket | Blue' is not in list  ****\n",
      "loop number 82   ****  'The North Face | Jacket | Black' is not in list  ****\n",
      "loop number 85   ****  'Tommy Hilfiger | Socks | Grey' is not in list  ****\n",
      "loop number 88   ****  'Nike | Socks | Blue' is not in list  ****\n",
      "loop number 90   ****  'Adidas | Socks | White' is not in list  ****\n",
      "loop number 91   ****  'Puma | Socks | White' is not in list  ****\n",
      "loop number 92   ****  'Puma | Socks | Black' is not in list  ****\n",
      "loop number 93   ****  'Calvin Klein | Socks | Blue' is not in list  ****\n",
      "loop number 94   ****  'Calvin Klein | Socks | White' is not in list  ****\n",
      "loop number 95   ****  'Under Armour | Socks | Red' is not in list  ****\n",
      "loop number 99   ****  'Columbia | Socks | Grey' is not in list  ****\n",
      "loop number 100   ****  'Columbia | Socks | Brown' is not in list  ****\n",
      "loop number 101   ****  'Darn Tough | Socks | Green' is not in list  ****\n",
      "loop number 103   ****  'VRD | Socks | Brown' is not in list  ****\n",
      "loop number 106   ****  'Nike | Track Pant | Green' is not in list  ****\n",
      "loop number 107   ****  'Nike | Track Pant | Blue' is not in list  ****\n",
      "loop number 111   ****  'Puma | Track Pant | Green' is not in list  ****\n",
      "loop number 113   ****  'Reebok | Track Pant | Pink' is not in list  ****\n",
      "loop number 117   ****  'G Gradual | Track Pant | Purple' is not in list  ****\n",
      "loop number 118   ****  'Fila | Track Pant | Yellow' is not in list  ****\n",
      "loop number 119   ****  'Fila | Track Pant | Brown' is not in list  ****\n",
      "loop number 120   ****  'BROKIG | Track Pant | Green' is not in list  ****\n",
      "loop number 121   ****  'BROKIG | Track Pant | Grey' is not in list  ****\n",
      "loop number 122   ****  'Champion | Track Pant | Green' is not in list  ****\n",
      "loop number 123   ****  'Champion | Track Pant | Red' is not in list  ****\n",
      "loop number 126   ****  'NORTHYARD | Track Pant | Black' is not in list  ****\n",
      "loop number 129   ****  'Adidas | Shorts | Blue' is not in list  ****\n",
      "loop number 131   ****  'Puma | Shorts | Yellow' is not in list  ****\n",
      "loop number 134   ****  'Reebok | Shorts | Red' is not in list  ****\n",
      "loop number 137   ****  'Haimont | Shorts | Orange' is not in list  ****\n",
      "loop number 138   ****  'Haimont | Shorts | Purple' is not in list  ****\n",
      "loop number 139   ****  'G Gradual | Shorts | Red' is not in list  ****\n",
      "loop number 140   ****  'G Gradual | Shorts | White' is not in list  ****\n",
      "loop number 144   ****  'NORTHYARD | Shorts | Yellow' is not in list  ****\n",
      "loop number 147   ****  'Mizuno | Shorts | Grey' is not in list  ****\n",
      "loop number 150   ****  'Nike | Cap | Grey' is not in list  ****\n",
      "loop number 153   ****  'Adidas | Cap | White' is not in list  ****\n",
      "loop number 156   ****  'Reebok | Cap | Red' is not in list  ****\n",
      "loop number 157   ****  'Reebok | Cap | Blue' is not in list  ****\n",
      "loop number 174   ****  'Adidas | Bag | Red' is not in list  ****\n",
      "loop number 177   ****  'Reebok | Bag | Black' is not in list  ****\n",
      "loop number 178   ****  'Reebok | Bag | Pink' is not in list  ****\n",
      "loop number 182   ****  'Haimont | Bag | Blue' is not in list  ****\n",
      "loop number 186   ****  'The North Face | Bag | Red' is not in list  ****\n",
      "loop number 195   ****  'Adidas | Beanie | Pink' is not in list  ****\n",
      "loop number 196   ****  'Puma | Beanie | Red' is not in list  ****\n",
      "loop number 199   ****  'Under Armour | Beanie | Grey' is not in list  ****\n",
      "loop number 200   ****  'Columbia | Beanie | Green' is not in list  ****\n",
      "loop number 201   ****  'Columbia | Beanie | Pink' is not in list  ****\n",
      "**** value of n:  210.0  ****\n",
      "Top-1 accuracy: 36.67\n",
      "Top-5 accuracy: 58.57\n"
     ]
    }
   ],
   "source": [
    "import numpy as np\n",
    "\n",
    "with torch.no_grad():\n",
    "    top1, top5, n = 0., 0., 0.\n",
    "    \n",
    "    for i, (images, target) in enumerate(tqdm(dataset)):\n",
    "        \n",
    "        image = []\n",
    "        image.append(images)\n",
    "        image = torch.tensor(np.stack(image))\n",
    "        image_features = model.encode_image(image)\n",
    "        image_features /= image_features.norm(dim=-1, keepdim=True)\n",
    "        \n",
    "        brand_logits = 100. * image_features @ zeroshot_brand_weights\n",
    "        category_logits = 100. * image_features @ zeroshot_category_weights\n",
    "        color_logits = 100. * image_features @ zeroshot_color_weights\n",
    "        \n",
    "        brand_probs = brand_logits.softmax(dim=-1)        \n",
    "        category_probs = category_logits.softmax(dim=-1)        \n",
    "        color_probs = color_logits.softmax(dim=-1)\n",
    "                \n",
    "        \n",
    "        top_brand_probs, top_brand_indexes = brand_probs.cpu().topk(5, dim=-1)\n",
    "        top_category_probs, top_category_indexes = category_probs.cpu().topk(2, dim=-1)\n",
    "        top_color_probs, top_color_indexes = color_probs.cpu().topk(2, dim=-1)\n",
    "                \n",
    "        predicted_brands = top_elemets(brand_list, top_brand_indexes)\n",
    "        predicted_categories = top_elemets(category_list, top_category_indexes)\n",
    "        predicted_colors = top_elemets(color_list, top_color_indexes)\n",
    "        \n",
    "        predicted_titles = []\n",
    "        l=j=k=0\n",
    "\n",
    "        for l in range(len(predicted_brands)):\n",
    "            for j in range(len(predicted_categories)):\n",
    "                for k in range(len(predicted_colors)):\n",
    "                    predicted_titles.append(predicted_brands[l] + \" | \" + predicted_categories[j] + \" | \" + predicted_colors[k])\n",
    "        \n",
    "        zeroshot_title_weights = zeroshot_weight_calculator_without_templ(predicted_titles)\n",
    "        predicted_title_logits = 100. * image_features @ zeroshot_title_weights        \n",
    "        \n",
    "        try:\n",
    "            target_index = predicted_titles.index(target)\n",
    "            acc1, acc5 = accuracy(predicted_title_logits, target_index, topk=(1,5))\n",
    "            top1 += acc1\n",
    "            top5 += acc5\n",
    "            \n",
    "        except Exception as e:\n",
    "            print(f\"loop number {i+1}  \",\"**** \",e,\" ****\")\n",
    "        \n",
    "        n += image.size(0)\n",
    "        \n",
    "print(\"**** value of n: \",n,\" ****\")\n",
    "        \n",
    "top1 = (top1 / n) * 100\n",
    "top5 = (top5 / n) * 100 \n",
    "\n",
    "print(f\"Top-1 accuracy: {top1:.2f}\")\n",
    "print(f\"Top-5 accuracy: {top5:.2f}\")"
   ]
  },
  {
   "cell_type": "code",
   "execution_count": null,
   "id": "a28f01b4",
   "metadata": {},
   "outputs": [],
   "source": []
  }
 ],
 "metadata": {
  "kernelspec": {
   "display_name": "Python 3 (ipykernel)",
   "language": "python",
   "name": "python3"
  },
  "language_info": {
   "codemirror_mode": {
    "name": "ipython",
    "version": 3
   },
   "file_extension": ".py",
   "mimetype": "text/x-python",
   "name": "python",
   "nbconvert_exporter": "python",
   "pygments_lexer": "ipython3",
   "version": "3.8.15"
  }
 },
 "nbformat": 4,
 "nbformat_minor": 5
}
