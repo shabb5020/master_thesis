{
 "cells": [
  {
   "cell_type": "markdown",
   "id": "dc529e0c-4746-485c-bf47-05eb007a5d61",
   "metadata": {},
   "source": [
    "### training hyper-parameters"
   ]
  },
  {
   "cell_type": "code",
   "execution_count": null,
   "id": "66eece1d",
   "metadata": {},
   "outputs": [],
   "source": [
    "batch_size = 98\n",
    "learning_rate = 5e-5\n",
    "momentum = (0.9,0.98)\n",
    "eps = 1e-6\n",
    "weight_decay = 0.2\n",
    "number_of_epochs = 10"
   ]
  },
  {
   "cell_type": "markdown",
   "id": "b06fb4fd-e566-4ca1-b923-ca5f8d6eb3f2",
   "metadata": {},
   "source": [
    "### load images and titles"
   ]
  },
  {
   "cell_type": "code",
   "execution_count": null,
   "id": "0335ee92-9380-448a-8c6d-990e691bbe01",
   "metadata": {},
   "outputs": [],
   "source": [
    "import train\n",
    "\n",
    "image_path = train.product_images\n",
    "texts_file = train.product_titles\n",
    "\n",
    "texts_list = train.read_text(texts_file)\n",
    "images, titles = train.get_image_title(image_path, texts_list)\n",
    "\n",
    "print(len(images), \"|\", len(titles))"
   ]
  },
  {
   "cell_type": "markdown",
   "id": "5cd5e52d-4fba-4aac-9985-5239b28d3a30",
   "metadata": {},
   "source": [
    "### create and load dataset"
   ]
  },
  {
   "cell_type": "code",
   "execution_count": null,
   "id": "6b165c2c-3ee8-4978-8b57-82f4d7494779",
   "metadata": {},
   "outputs": [],
   "source": [
    "dataset = train.image_title_dataset(images, titles)\n",
    "print(\"dataset size: \",len(dataset))"
   ]
  },
  {
   "cell_type": "code",
   "execution_count": null,
   "id": "9cf8eaab-9079-4c75-8adc-e3633e07dfd8",
   "metadata": {},
   "outputs": [],
   "source": [
    "from torch.utils.data import DataLoader\n",
    "\n",
    "train_dataloader = DataLoader(dataset, batch_size=batch_size, shuffle=True)"
   ]
  },
  {
   "cell_type": "markdown",
   "id": "74a3c497-d2b6-44e8-be67-b0498bffb927",
   "metadata": {},
   "source": [
    "### load model"
   ]
  },
  {
   "cell_type": "code",
   "execution_count": null,
   "id": "0b67ead8",
   "metadata": {},
   "outputs": [],
   "source": [
    "import torch\n",
    "\n",
    "base_model = train.model\n",
    "preprocess = train.preprocess\n",
    "\n",
    "input_model = '../models/model_branch1_cp1.pt'\n",
    "model = torch.load(input_model)"
   ]
  },
  {
   "cell_type": "code",
   "execution_count": null,
   "id": "4ccf9dc0",
   "metadata": {},
   "outputs": [],
   "source": [
    "def convert_models_to_fp32(model):\n",
    "    for p in model.parameters():\n",
    "        p.data = p.data.float()\n",
    "        p.grad.data = p.grad.data.float()"
   ]
  },
  {
   "cell_type": "code",
   "execution_count": null,
   "id": "72a7130c",
   "metadata": {},
   "outputs": [],
   "source": [
    "device = train.device\n",
    "\n",
    "if device == \"cpu\":\n",
    "  model.float()"
   ]
  },
  {
   "cell_type": "code",
   "execution_count": null,
   "id": "bdceb426",
   "metadata": {},
   "outputs": [],
   "source": [
    "optimizer = torch.optim.Adam(\n",
    "    model.parameters(),\n",
    "    lr=learning_rate,\n",
    "    betas=momentum,\n",
    "    eps=eps,\n",
    "    weight_decay=weight_decay\n",
    ")"
   ]
  },
  {
   "cell_type": "code",
   "execution_count": null,
   "id": "07c7fdc6",
   "metadata": {},
   "outputs": [],
   "source": [
    "import torch.nn as nn\n",
    "\n",
    "loss_img = nn.CrossEntropyLoss()\n",
    "loss_txt = nn.CrossEntropyLoss()"
   ]
  },
  {
   "cell_type": "code",
   "execution_count": null,
   "id": "da62e32c",
   "metadata": {},
   "outputs": [],
   "source": [
    "from tqdm import tqdm\n",
    "\n",
    "for epoch in range(number_of_epochs):\n",
    "    progress = tqdm(train_dataloader, total=len(train_dataloader))\n",
    "    for batch in progress:\n",
    "        optimizer.zero_grad()\n",
    "        images, texts = batch\n",
    "\n",
    "        images = images.to(device)\n",
    "        texts = texts.to(device)\n",
    "\n",
    "        logits_per_image, logits_per_text = model(images, texts)\n",
    "\n",
    "        ground_truth = torch.arange(len(images),dtype=torch.long,device=device)\n",
    "        total_loss = (loss_img(logits_per_image,ground_truth) + loss_txt(logits_per_text,ground_truth))/2\n",
    "\n",
    "        total_loss.backward()\n",
    "        if device == \"cpu\":\n",
    "            optimizer.step()\n",
    "        else :\n",
    "            convert_models_to_fp32(model)\n",
    "            optimizer.step()\n",
    "            clip.model.convert_weights(model)\n",
    "\n",
    "        progress.set_description(f\"Epoch {epoch+1}/{number_of_epochs}, Loss: {total_loss.item():.4f}\")"
   ]
  },
  {
   "cell_type": "code",
   "execution_count": null,
   "id": "871f856c",
   "metadata": {},
   "outputs": [],
   "source": [
    "output_model = 'models/model_branch1_cp2.pt'\n",
    "torch.save(model, output_model)"
   ]
  }
 ],
 "metadata": {
  "kernelspec": {
   "display_name": "Python 3 (ipykernel)",
   "language": "python",
   "name": "python3"
  },
  "language_info": {
   "codemirror_mode": {
    "name": "ipython",
    "version": 3
   },
   "file_extension": ".py",
   "mimetype": "text/x-python",
   "name": "python",
   "nbconvert_exporter": "python",
   "pygments_lexer": "ipython3",
   "version": "3.13.5"
  }
 },
 "nbformat": 4,
 "nbformat_minor": 5
}
