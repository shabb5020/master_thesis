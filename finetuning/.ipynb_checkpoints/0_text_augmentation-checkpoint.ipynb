{
 "cells": [
  {
   "cell_type": "markdown",
   "id": "cd1eddb0-8d20-4479-948d-11ac229f5423",
   "metadata": {},
   "source": [
    "### load open-ai clip"
   ]
  },
  {
   "cell_type": "code",
   "execution_count": 1,
   "id": "e1748469-6da1-40c6-a262-89d49b73cf6a",
   "metadata": {},
   "outputs": [],
   "source": [
    "import utils\n",
    "\n",
    "model = utils.model\n",
    "preprocess = utils.preprocess"
   ]
  },
  {
   "cell_type": "markdown",
   "id": "2f74af07-9883-4525-be95-409b9c49001a",
   "metadata": {},
   "source": [
    "### text encoding"
   ]
  },
  {
   "cell_type": "code",
   "execution_count": 2,
   "id": "fb7740f4",
   "metadata": {},
   "outputs": [],
   "source": [
    "brands = utils.brands\n",
    "categories = utils.categories\n",
    "colors = utils.colors\n",
    "\n",
    "brands_template = utils.brands_template\n",
    "categories_template = utils.categories_template\n",
    "colors_template = utils.colors_template"
   ]
  },
  {
   "cell_type": "code",
   "execution_count": 3,
   "id": "dea7ae4d-d149-4ff5-9360-4c53cf10865f",
   "metadata": {},
   "outputs": [
    {
     "data": {
      "application/vnd.jupyter.widget-view+json": {
       "model_id": "994092d0474b4226ac3569afa03e2c37",
       "version_major": 2,
       "version_minor": 0
      },
      "text/plain": [
       "  0%|          | 0/40 [00:00<?, ?it/s]"
      ]
     },
     "metadata": {},
     "output_type": "display_data"
    },
    {
     "data": {
      "application/vnd.jupyter.widget-view+json": {
       "model_id": "c38cb128957a417aa16666b230007b7b",
       "version_major": 2,
       "version_minor": 0
      },
      "text/plain": [
       "  0%|          | 0/10 [00:00<?, ?it/s]"
      ]
     },
     "metadata": {},
     "output_type": "display_data"
    },
    {
     "data": {
      "application/vnd.jupyter.widget-view+json": {
       "model_id": "6a985f67792e4c7a99a929bb4d7f3624",
       "version_major": 2,
       "version_minor": 0
      },
      "text/plain": [
       "  0%|          | 0/12 [00:00<?, ?it/s]"
      ]
     },
     "metadata": {},
     "output_type": "display_data"
    },
    {
     "name": "stdout",
     "output_type": "stream",
     "text": [
      "torch.Size([512, 40])\n",
      "torch.Size([512, 10])\n",
      "torch.Size([512, 12])\n"
     ]
    }
   ],
   "source": [
    "zeroshot_brands_weights = utils.zeroshot_weight_calculator(brands, brands_template)\n",
    "zeroshot_categories_weights = utils.zeroshot_weight_calculator(categories, categories_template)\n",
    "zeroshot_colors_weights = utils.zeroshot_weight_calculator(colors, colors_template)\n",
    "\n",
    "print(zeroshot_brands_weights.shape)\n",
    "print(zeroshot_categories_weights.shape)\n",
    "print(zeroshot_colors_weights.shape)"
   ]
  },
  {
   "cell_type": "markdown",
   "id": "bd7d0c8b-9cee-4686-8b7e-ee24b8ffc085",
   "metadata": {},
   "source": [
    "### image encoding"
   ]
  },
  {
   "cell_type": "code",
   "execution_count": 4,
   "id": "32b56c76-4ebd-479a-86cb-a0a4565ecc71",
   "metadata": {},
   "outputs": [],
   "source": [
    "sample_directory = utils.sample_directory\n",
    "image_processed = utils.image_processing(sample_directory)\n",
    "image_features = utils.image_encoding(image_processed)"
   ]
  },
  {
   "cell_type": "markdown",
   "id": "350dcf1f-972c-4ac5-918b-880457e48749",
   "metadata": {},
   "source": [
    "### calculate cosine similarity/logits"
   ]
  },
  {
   "cell_type": "code",
   "execution_count": 5,
   "id": "61b42b98-efb2-45f4-95e7-9c74e4bd0c91",
   "metadata": {},
   "outputs": [
    {
     "name": "stdout",
     "output_type": "stream",
     "text": [
      "brand_similarity shape: torch.Size([1, 40])\n",
      "category_similarity shape: torch.Size([1, 10])\n",
      "color_similarity shape: torch.Size([1, 12])\n"
     ]
    }
   ],
   "source": [
    "brand_logits = image_features @ zeroshot_brands_weights\n",
    "category_logits = image_features @ zeroshot_categories_weights\n",
    "color_logits = image_features @ zeroshot_colors_weights\n",
    "\n",
    "\n",
    "print(\"brand_similarity shape:\", brand_logits.shape)\n",
    "print(\"category_similarity shape:\", category_logits.shape)\n",
    "print(\"color_similarity shape:\", color_logits.shape)"
   ]
  },
  {
   "cell_type": "code",
   "execution_count": 6,
   "id": "6fce3a43-36b3-462f-a505-05750beb5161",
   "metadata": {},
   "outputs": [
    {
     "name": "stdout",
     "output_type": "stream",
     "text": [
      "***** brand_similarity/logits *****\n",
      "0.21\n",
      "0.23\n",
      "0.21\n",
      "0.22\n",
      "0.21\n",
      "0.22\n",
      "0.24\n",
      "0.23\n",
      "0.24\n",
      "0.23\n",
      "0.27\n",
      "0.24\n",
      "0.27\n",
      "0.24\n",
      "0.24\n",
      "0.27\n",
      "0.23\n",
      "0.23\n",
      "0.23\n",
      "0.22\n",
      "0.24\n",
      "0.24\n",
      "0.21\n",
      "0.23\n",
      "0.21\n",
      "0.21\n",
      "0.23\n",
      "0.21\n",
      "0.24\n",
      "0.22\n",
      "0.21\n",
      "0.23\n",
      "0.23\n",
      "0.23\n",
      "0.22\n",
      "0.23\n",
      "0.23\n",
      "0.25\n",
      "0.23\n",
      "0.19\n",
      "***** category_similarity/logits *****\n",
      "0.22\n",
      "0.27\n",
      "0.19\n",
      "0.21\n",
      "0.20\n",
      "0.24\n",
      "0.24\n",
      "0.23\n",
      "0.20\n",
      "0.21\n",
      "***** color_similarity/logits *****\n",
      "0.22\n",
      "0.23\n",
      "0.23\n",
      "0.23\n",
      "0.26\n",
      "0.21\n",
      "0.21\n",
      "0.24\n",
      "0.22\n",
      "0.23\n",
      "0.22\n",
      "0.21\n"
     ]
    }
   ],
   "source": [
    "print(\"***** brand_similarity/logits *****\")\n",
    "for value in brand_logits[0]:\n",
    "    print(f'{value:.2f}')\n",
    "\n",
    "print(\"***** category_similarity/logits *****\")\n",
    "for value in category_logits[0]:\n",
    "    print(f'{value:.2f}')\n",
    "\n",
    "print(\"***** color_similarity/logits *****\")\n",
    "for value in color_logits[0]:\n",
    "    print(f'{value:.2f}')"
   ]
  },
  {
   "cell_type": "code",
   "execution_count": 7,
   "id": "3a841f7c-1440-4bc9-9236-13aba0d6bf13",
   "metadata": {},
   "outputs": [
    {
     "name": "stdout",
     "output_type": "stream",
     "text": [
      "brand_probabilities shape:  torch.Size([1, 40])\n",
      "category_probabilities shape:  torch.Size([1, 10])\n",
      "color_probabilities shape:  torch.Size([1, 12])\n"
     ]
    }
   ],
   "source": [
    "brand_probabilities = (100.0 * brand_logits).softmax(dim=-1)\n",
    "category_probabilities = (100.0 * category_logits).softmax(dim=-1)\n",
    "color_probabilities = (100.0 * color_logits).softmax(dim=-1)\n",
    "\n",
    "print(\"brand_probabilities shape: \", brand_probabilities.shape)\n",
    "print(\"category_probabilities shape: \", category_probabilities.shape)\n",
    "print(\"color_probabilities shape: \", color_probabilities.shape)"
   ]
  },
  {
   "cell_type": "code",
   "execution_count": 8,
   "id": "9ea2148d-5c37-4db2-944f-2ac43c048703",
   "metadata": {},
   "outputs": [
    {
     "name": "stdout",
     "output_type": "stream",
     "text": [
      "***** brand_probabilities *****\n",
      "0 % : Ray-Ban\n",
      "0 % : Carrera\n",
      "0 % : Gucci\n",
      "0 % : Versace\n",
      "0 % : Prada\n",
      "0 % : Tommy Hilfiger\n",
      "1 % : Lacoste\n",
      "0 % : U.S. Polo Assn.\n",
      "1 % : DKNY\n",
      "0 % : Polo Ralph Lauren\n",
      "29 % : Nike\n",
      "1 % : Adidas\n",
      "27 % : Puma\n",
      "1 % : Calvin Klein\n",
      "2 % : Reebok\n",
      "20 % : Under Armour\n",
      "0 % : Brooks Brothers\n",
      "0 % : Haimont\n",
      "0 % : ASICS\n",
      "0 % : Saucony\n",
      "1 % : FitVille\n",
      "1 % : Brooks\n",
      "0 % : Skechers\n",
      "0 % : Red Tape\n",
      "0 % : Little Donkey Andy\n",
      "0 % : 33,000ft\n",
      "0 % : Columbia\n",
      "0 % : Carhartt\n",
      "1 % : MAGCOMSEN\n",
      "0 % : The North Face\n",
      "0 % : Darn Tough\n",
      "0 % : VRD\n",
      "0 % : G Gradual\n",
      "0 % : Fila\n",
      "0 % : BROKIG\n",
      "0 % : Champion\n",
      "0 % : NORTHYARD\n",
      "3 % : Mizuno\n",
      "0 % : Hurley\n",
      "0 % : Timberland\n",
      "***** category_probabilities *****\n",
      "0 % : Sunglasses\n",
      "86 % : T-Shirt\n",
      "0 % : Shoes\n",
      "0 % : Jacket\n",
      "0 % : Socks\n",
      "3 % : Track Pant\n",
      "6 % : Shorts\n",
      "1 % : Cap\n",
      "0 % : Bag\n",
      "0 % : Beanie\n",
      "***** color_probabilities *****\n",
      "0 % : Black\n",
      "1 % : White\n",
      "3 % : Grey\n",
      "1 % : Brown\n",
      "76 % : Red\n",
      "0 % : Green\n",
      "0 % : Blue\n",
      "6 % : Orange\n",
      "1 % : Yellow\n",
      "4 % : Pink\n",
      "0 % : Violet\n",
      "0 % : Purple\n"
     ]
    }
   ],
   "source": [
    "print(\"***** brand_probabilities *****\")\n",
    "for i, probability in enumerate(brand_probabilities[0]):\n",
    "    #print(f'{probability*100:05.2f}')\n",
    "    print( f'{int(probability*100)} % : '+ brands[i])\n",
    "    \n",
    "print(\"***** category_probabilities *****\")\n",
    "for i, probability in enumerate(category_probabilities[0]):\n",
    "    #print(f'{probability*100:05.2f}')\n",
    "    print( f'{int(probability*100)} % : '+ categories[i])\n",
    "    \n",
    "print(\"***** color_probabilities *****\")\n",
    "for i, probability in enumerate(color_probabilities[0]):\n",
    "    #print(f'{probability*100:05.2f}')\n",
    "    print( f'{int(probability*100)} % : '+ colors[i])"
   ]
  },
  {
   "cell_type": "code",
   "execution_count": 9,
   "id": "01726120-96f4-4f92-9ac2-98e68a0cb8b4",
   "metadata": {},
   "outputs": [],
   "source": [
    "top_brand_probs, top_brand_indexes = brand_probabilities.cpu().topk(2, dim=-1)\n",
    "top_category_probs, top_category_indexes = category_probabilities.cpu().topk(2, dim=-1)\n",
    "top_color_probs, top_color_indexes = color_probabilities.cpu().topk(2, dim=-1)"
   ]
  },
  {
   "cell_type": "code",
   "execution_count": 11,
   "id": "b112cf5b-3f0c-4229-8a44-7b65efd4cb5e",
   "metadata": {},
   "outputs": [
    {
     "name": "stdout",
     "output_type": "stream",
     "text": [
      "['Nike', 'Puma']\n",
      "['T-Shirt', 'Shorts']\n",
      "['Red', 'Orange']\n"
     ]
    }
   ],
   "source": [
    "predicted_brands = utils.top_elemets(brands, top_brand_indexes)\n",
    "predicted_categories = utils.top_elemets(categories, top_category_indexes)\n",
    "predicted_colors = utils.top_elemets(colors, top_color_indexes)\n",
    "\n",
    "print(predicted_brands)\n",
    "print(predicted_categories)\n",
    "print(predicted_colors)"
   ]
  },
  {
   "cell_type": "code",
   "execution_count": 17,
   "id": "a55b2253-555b-4aa2-a7ac-e161734ba784",
   "metadata": {},
   "outputs": [
    {
     "name": "stdout",
     "output_type": "stream",
     "text": [
      "['Nike | T-Shirt | Red', 'Nike | T-Shirt | Orange', 'Nike | Shorts | Red', 'Nike | Shorts | Orange', 'Puma | T-Shirt | Red', 'Puma | T-Shirt | Orange', 'Puma | Shorts | Red', 'Puma | Shorts | Orange']\n"
     ]
    }
   ],
   "source": [
    "predicted_titles = utils.generate_titles(predicted_brands, predicted_categories, predicted_colors)\n",
    "\n",
    "print(predicted_titles)"
   ]
  },
  {
   "cell_type": "markdown",
   "id": "efd040de-0239-4880-a480-17a8583a8d94",
   "metadata": {},
   "source": [
    "### calculate probalities for predicted titles"
   ]
  },
  {
   "cell_type": "code",
   "execution_count": 18,
   "id": "2642588d-93a8-45f4-88bf-61608b0b3962",
   "metadata": {},
   "outputs": [
    {
     "name": "stdout",
     "output_type": "stream",
     "text": [
      "Title candidate 1: Nike | T-Shirt | Red ---> probability = 91.93%\n",
      "Title candidate 2: Puma | T-Shirt | Red ---> probability = 6.87%\n",
      "Title candidate 3: Nike | T-Shirt | Orange ---> probability = 0.63%\n",
      "Title candidate 4: Nike | Shorts | Red ---> probability = 0.46%\n",
      "Title candidate 5: Puma | T-Shirt | Orange ---> probability = 0.08%\n"
     ]
    }
   ],
   "source": [
    "titles_probability = utils.calculate_title_probability(predicted_titles, image_features)\n",
    "titles_top5 = utils.top5_titles(predicted_titles, titles_probability)\n",
    "for title in titles_top5:\n",
    "    print(title)"
   ]
  },
  {
   "cell_type": "code",
   "execution_count": null,
   "id": "5acad5df-9d60-44b2-94da-4c80e90df01d",
   "metadata": {},
   "outputs": [],
   "source": []
  }
 ],
 "metadata": {
  "kernelspec": {
   "display_name": "Python 3 (ipykernel)",
   "language": "python",
   "name": "python3"
  },
  "language_info": {
   "codemirror_mode": {
    "name": "ipython",
    "version": 3
   },
   "file_extension": ".py",
   "mimetype": "text/x-python",
   "name": "python",
   "nbconvert_exporter": "python",
   "pygments_lexer": "ipython3",
   "version": "3.13.5"
  }
 },
 "nbformat": 4,
 "nbformat_minor": 5
}
